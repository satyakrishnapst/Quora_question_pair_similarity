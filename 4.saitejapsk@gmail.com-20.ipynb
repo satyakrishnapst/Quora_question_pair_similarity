{
 "cells": [
  {
   "cell_type": "markdown",
   "metadata": {},
   "source": [
    "<h1>4. Machine Learning Model XG Boost </h1>"
   ]
  },
  {
   "cell_type": "code",
   "execution_count": 4,
   "metadata": {
    "colab": {},
    "colab_type": "code",
    "id": "6VXPfRp-tARR",
    "outputId": "6c27acaf-2c6a-467f-fd7a-68efce98e30b"
   },
   "outputs": [],
   "source": [
    "import pandas as pd\n",
    "import matplotlib.pyplot as plt\n",
    "import re\n",
    "import time\n",
    "import warnings\n",
    "import sqlite3\n",
    "from sqlalchemy import create_engine # database connection\n",
    "import csv\n",
    "import os\n",
    "warnings.filterwarnings(\"ignore\")\n",
    "import datetime as dt\n",
    "import numpy as np\n",
    "from nltk.corpus import stopwords\n",
    "from sklearn.decomposition import TruncatedSVD\n",
    "from sklearn.preprocessing import normalize\n",
    "from sklearn.feature_extraction.text import CountVectorizer\n",
    "from sklearn.manifold import TSNE\n",
    "import seaborn as sns\n",
    "from sklearn.neighbors import KNeighborsClassifier\n",
    "from sklearn.metrics import confusion_matrix\n",
    "from sklearn.metrics.classification import accuracy_score, log_loss\n",
    "from sklearn.feature_extraction.text import TfidfVectorizer\n",
    "from collections import Counter\n",
    "from scipy.sparse import hstack\n",
    "from sklearn.multiclass import OneVsRestClassifier\n",
    "from sklearn.svm import SVC\n",
    "from sklearn.model_selection import StratifiedKFold \n",
    "from collections import Counter, defaultdict\n",
    "from sklearn.calibration import CalibratedClassifierCV\n",
    "from sklearn.naive_bayes import MultinomialNB\n",
    "from sklearn.naive_bayes import GaussianNB\n",
    "from sklearn.model_selection import train_test_split\n",
    "from sklearn.model_selection import GridSearchCV\n",
    "import math\n",
    "from sklearn.metrics import normalized_mutual_info_score\n",
    "from sklearn.ensemble import RandomForestClassifier\n",
    "\n",
    "\n",
    "\n",
    "from sklearn.model_selection import cross_val_score\n",
    "from sklearn.linear_model import SGDClassifier\n",
    "from mlxtend.classifier import StackingClassifier\n",
    "\n",
    "from sklearn import model_selection\n",
    "from sklearn.linear_model import LogisticRegression\n",
    "from sklearn.metrics import precision_recall_curve, auc, roc_curve"
   ]
  },
  {
   "cell_type": "code",
   "execution_count": 31,
   "metadata": {},
   "outputs": [
    {
     "data": {
      "text/plain": [
       "Index(['id', 'freq_qid1', 'freq_qid2', 'q1len', 'q2len', 'q1_n_words',\n",
       "       'q2_n_words', 'word_Common', 'word_Total', 'word_share',\n",
       "       ...\n",
       "       '86.1', '87.1', '88.1', '89.1', '90.1', '91.1', '92.1', '93.1', '94.1',\n",
       "       '95.1'],\n",
       "      dtype='object', length=220)"
      ]
     },
     "execution_count": 31,
     "metadata": {},
     "output_type": "execute_result"
    }
   ],
   "source": [
    "xg_train=pd.read_csv('final_train_data.csv')\n",
    "xg_train=xg_train.drop(['Unnamed: 0'],axis=1)\n",
    "xg_train.columns\n",
    "\n",
    "xg_cv=pd.read_csv('final_cv_data.csv')\n",
    "xg_cv=xg_cv.drop(['Unnamed: 0'],axis=1)\n",
    "xg_cv.columns\n",
    "\n",
    "xg_test=pd.read_csv('final_test_data.csv')\n",
    "xg_test=xg_test.drop(['Unnamed: 0'],axis=1)\n",
    "xg_test.columns"
   ]
  },
  {
   "cell_type": "code",
   "execution_count": 79,
   "metadata": {},
   "outputs": [
    {
     "name": "stdout",
     "output_type": "stream",
     "text": [
      "(49000, 219) (49000,)\n",
      "(21000, 219) (21000,)\n",
      "(30000, 219) (30000,)\n"
     ]
    }
   ],
   "source": [
    "x_train_data=xg_train_df.drop(['is_duplicate'],axis=1)\n",
    "y_train_data=xg_train_df['is_duplicate']\n",
    "for i in x_train_data:\n",
    "    x_train_data[i]=x_train_data[i].apply(pd.to_numeric)\n",
    "print(x_train_data.shape,y_train_data.shape)\n",
    "\n",
    "x_cv_data=xg_cv_df.drop(['is_duplicate'],axis=1)\n",
    "y_cv_data=xg_cv_df['is_duplicate']\n",
    "for i in x_cv_data:\n",
    "    x_cv_data[i]=x_cv_data[i].apply(pd.to_numeric)\n",
    "print(x_cv_data.shape,y_cv_data.shape)\n",
    "\n",
    "x_test_data=xg_test_df.drop(['is_duplicate'],axis=1)\n",
    "y_test_data=xg_test_df['is_duplicate']\n",
    "for i in x_test_data:\n",
    "    x_test_data[i]=x_test_data[i].apply(pd.to_numeric)\n",
    "print(x_test_data.shape,y_test_data.shape)"
   ]
  },
  {
   "cell_type": "code",
   "execution_count": 97,
   "metadata": {},
   "outputs": [],
   "source": [
    "x_final_train_data=pd.DataFrame(x_train_data)\n",
    "x_final_cv_data=pd.DataFrame(x_cv_data)\n",
    "x_final_test_data=pd.DataFrame(x_test_data)\n",
    "\n",
    "y_final_train_data=pd.DataFrame(y_train_data)\n",
    "y_final_cv_data=pd.DataFrame(y_cv_data)\n",
    "y_final_test_data=pd.DataFrame(y_test_data)\n"
   ]
  },
  {
   "cell_type": "markdown",
   "metadata": {},
   "source": [
    "<h3> custom confusion matrix Precision matrix Recall matrix </h3>"
   ]
  },
  {
   "cell_type": "code",
   "execution_count": 58,
   "metadata": {
    "colab": {},
    "colab_type": "code",
    "id": "XfxcPT6jtASg"
   },
   "outputs": [],
   "source": [
    "# This function plots the confusion matrices given y_i, y_i_hat.\n",
    "def plot_confusion_matrix(test_y, predict_y):\n",
    "    C = confusion_matrix(test_y, predict_y)\n",
    "    # C = 9,9 matrix, each cell (i,j) represents number of points of class i are predicted class j\n",
    "    \n",
    "    A =(((C.T)/(C.sum(axis=1))).T)\n",
    "    #divid each element of the confusion matrix with the sum of elements in that column\n",
    "    \n",
    "    # C = [[1, 2],\n",
    "    #     [3, 4]]\n",
    "    # C.T = [[1, 3],\n",
    "    #        [2, 4]]\n",
    "    # C.sum(axis = 1)  axis=0 corresonds to columns and axis=1 corresponds to rows in two diamensional array\n",
    "    # C.sum(axix =1) = [[3, 7]]\n",
    "    # ((C.T)/(C.sum(axis=1))) = [[1/3, 3/7]\n",
    "    #                           [2/3, 4/7]]\n",
    "\n",
    "    # ((C.T)/(C.sum(axis=1))).T = [[1/3, 2/3]\n",
    "    #                           [3/7, 4/7]]\n",
    "    # sum of row elements = 1\n",
    "    \n",
    "    B =(C/C.sum(axis=0))\n",
    "    #divid each element of the confusion matrix with the sum of elements in that row\n",
    "    # C = [[1, 2],\n",
    "    #     [3, 4]]\n",
    "    # C.sum(axis = 0)  axis=0 corresonds to columns and axis=1 corresponds to rows in two diamensional array\n",
    "    # C.sum(axix =0) = [[4, 6]]\n",
    "    # (C/C.sum(axis=0)) = [[1/4, 2/6],\n",
    "    #                      [3/4, 4/6]] \n",
    "    plt.figure(figsize=(20,4))\n",
    "    \n",
    "    labels = [1,2]\n",
    "    # representing A in heatmap format\n",
    "    cmap=sns.light_palette(\"blue\")\n",
    "    plt.subplot(1, 3, 1)\n",
    "    sns.heatmap(C, annot=True, cmap=cmap, fmt=\".3f\", xticklabels=labels, yticklabels=labels)\n",
    "    plt.xlabel('Predicted Class')\n",
    "    plt.ylabel('Original Class')\n",
    "    plt.title(\"Confusion matrix\")\n",
    "    \n",
    "    plt.subplot(1, 3, 2)\n",
    "    sns.heatmap(B, annot=True, cmap=cmap, fmt=\".3f\", xticklabels=labels, yticklabels=labels)\n",
    "    plt.xlabel('Predicted Class')\n",
    "    plt.ylabel('Original Class')\n",
    "    plt.title(\"Precision matrix\")\n",
    "    \n",
    "    plt.subplot(1, 3, 3)\n",
    "    # representing B in heatmap format\n",
    "    sns.heatmap(A, annot=True, cmap=cmap, fmt=\".3f\", xticklabels=labels, yticklabels=labels)\n",
    "    plt.xlabel('Predicted Class')\n",
    "    plt.ylabel('Original Class')\n",
    "    plt.title(\"Recall matrix\")\n",
    "    \n",
    "    plt.show()"
   ]
  },
  {
   "cell_type": "code",
   "execution_count": 93,
   "metadata": {},
   "outputs": [
    {
     "name": "stdout",
     "output_type": "stream",
     "text": [
      "x_train_data,y_train_data\n",
      "x_cv_data,y_cv_data\n",
      "x_test_data,y_test_data\n"
     ]
    }
   ],
   "source": [
    "print(\"x_train_data,y_train_data\")\n",
    "print(\"x_cv_data,y_cv_data\")\n",
    "print(\"x_test_data,y_test_data\")"
   ]
  },
  {
   "cell_type": "markdown",
   "metadata": {
    "colab_type": "text",
    "id": "ZhTJgclztAS6"
   },
   "source": [
    "<h2> 4.6 XGBoost </h2>"
   ]
  },
  {
   "cell_type": "code",
   "execution_count": 104,
   "metadata": {},
   "outputs": [
    {
     "name": "stdout",
     "output_type": "stream",
     "text": [
      "Best_depth =  1 \t cv_log_score\t: 0.41998682289175276 \t train_log_score\t: 0.42070775736185495\n",
      "Best_depth =  5 \t cv_log_score\t: 0.35602745870383345 \t train_log_score\t: 0.3166492167578133\n",
      "Best_depth =  10 \t cv_log_score\t: 0.35638636488720044 \t train_log_score\t: 0.16301454167226231\n",
      "Best_depth =  50 \t cv_log_score\t: 0.37192939171101824 \t train_log_score\t: 0.15688841612651705\n",
      "Best_depth =  100 \t cv_log_score\t: 0.37192939171101824 \t train_log_score\t: 0.15688841612651705\n",
      "Best_depth =  500 \t cv_log_score\t: 0.37192939171101824 \t train_log_score\t: 0.15688841612651705\n",
      "Best_depth =  700 \t cv_log_score\t: 0.37192939171101824 \t train_log_score\t: 0.15688841612651705\n",
      "Best_depth =  800 \t cv_log_score\t: 0.37192939171101824 \t train_log_score\t: 0.15688841612651705\n",
      "Best_depth =  900 \t cv_log_score\t: 0.37192939171101824 \t train_log_score\t: 0.15688841612651705\n",
      "Best_depth =  1000 \t cv_log_score\t: 0.37192939171101824 \t train_log_score\t: 0.15688841612651705\n"
     ]
    }
   ],
   "source": [
    "import xgboost as xgb\n",
    "\n",
    "train_log = []\n",
    "cv_log = []\n",
    "max_depth = [1, 5, 10, 50, 100, 500,700,800,900 ,1000]\n",
    "n_models =[10,20,30,40,50,60,70,80,90,100]\n",
    "\n",
    "for i in max_depth:\n",
    "    clf = xgb.XGBClassifier(max_depth=i,n_jobs=2)\n",
    "    clf.fit(x_train_data, y_train_data)\n",
    "    xgb_model = CalibratedClassifierCV(clf, method=\"sigmoid\")\n",
    "    xgb_model.fit(x_train_data, y_train_data)\n",
    "    y_train_pred =  xgb_model.predict_proba(x_train_data)\n",
    "    y_cv_pred =  xgb_model.predict_proba(x_cv_data)\n",
    "    train_log_score=log_loss(y_train_data,y_train_pred)\n",
    "    train_log.append(train_log_score)\n",
    "    cv_log_score=log_loss(y_cv_data, y_cv_pred)\n",
    "    cv_log.append(cv_log_score)\n",
    "    print(\"Best_depth = \",i ,\"\\t\",\"cv_log_score\\t:\",cv_log_score, \"\\t\",\"train_log_score\\t:\",train_log_score)"
   ]
  },
  {
   "cell_type": "code",
   "execution_count": 106,
   "metadata": {},
   "outputs": [
    {
     "name": "stdout",
     "output_type": "stream",
     "text": [
      "Best_estimator =  10 \t cv_log_score\t: 0.3846670481528824 \t train_log_score\t: 0.38398479167613714\n",
      "Best_estimator =  20 \t cv_log_score\t: 0.37496218035193696 \t train_log_score\t: 0.3712313889369485\n",
      "Best_estimator =  30 \t cv_log_score\t: 0.37058605204941253 \t train_log_score\t: 0.36332021981448226\n",
      "Best_estimator =  40 \t cv_log_score\t: 0.36740566179919754 \t train_log_score\t: 0.35670085486038844\n",
      "Best_estimator =  50 \t cv_log_score\t: 0.36491606590453923 \t train_log_score\t: 0.3504763374553276\n",
      "Best_estimator =  60 \t cv_log_score\t: 0.36217660686154074 \t train_log_score\t: 0.3434987162245954\n",
      "Best_estimator =  70 \t cv_log_score\t: 0.35944373252265505 \t train_log_score\t: 0.3357474920561014\n",
      "Best_estimator =  80 \t cv_log_score\t: 0.3580194204136973 \t train_log_score\t: 0.3285019354633564\n",
      "Best_estimator =  90 \t cv_log_score\t: 0.35695259345942093 \t train_log_score\t: 0.32250532220875905\n",
      "Best_estimator =  100 \t cv_log_score\t: 0.35602745870383345 \t train_log_score\t: 0.3166492167578133\n"
     ]
    }
   ],
   "source": [
    "best_depth = np.argmin(cv_log)\n",
    "\n",
    "train_auc_tfidfw2v=[]\n",
    "cv_auc_tfidfw2v=[]\n",
    "\n",
    "for j in n_models:\n",
    "    clf = xgb.XGBClassifier(max_depth=max_depth[best_depth],n_estimators=j,n_jobs=2)\n",
    "    clf.fit(x_train_data, y_train_data)\n",
    "    xgb_model = CalibratedClassifierCV(clf, method=\"sigmoid\")\n",
    "    xgb_model.fit(x_train_data, y_train_data)\n",
    "    y_train_pred =  xgb_model.predict_proba(x_train_data)\n",
    "    y_cv_pred =  xgb_model.predict_proba(x_cv_data)\n",
    "    train_log_score=log_loss(y_train_data,y_train_pred)\n",
    "    train_auc_tfidfw2v.append(train_log_score)\n",
    "    cv_log_score=log_loss(y_cv_data, y_cv_pred)\n",
    "    cv_auc_tfidfw2v.append(cv_log_score)\n",
    "    print(\"Best_estimator = \",j ,\"\\t\",\"cv_log_score\\t:\",cv_log_score, \"\\t\",\"train_log_score\\t:\",train_log_score)\n",
    "\n",
    "best_estimators = np.argmin(cv_auc_tfidfw2v)"
   ]
  },
  {
   "cell_type": "code",
   "execution_count": 107,
   "metadata": {},
   "outputs": [
    {
     "data": {
      "image/png": "[encoded data removed]",
      "text/plain": [
       "<Figure size 432x288 with 1 Axes>"
      ]
     },
     "metadata": {},
     "output_type": "display_data"
    }
   ],
   "source": [
    "#plotting\n",
    "fig, ax = plt.subplots()\n",
    "ax.plot(n_models, cv_auc_tfidfw2v,c='g')\n",
    "for i, txt in enumerate(np.round(cv_auc_tfidfw2v,3)):\n",
    "    ax.annotate((n_models[i],np.round(txt,3)), (n_models[i],cv_auc_tfidfw2v[i]))\n",
    "plt.grid()\n",
    "plt.title(\"Cross Validation Error for each models\")\n",
    "plt.xlabel(\"n_models 's\")\n",
    "plt.ylabel(\"Error measure\")\n",
    "plt.show()"
   ]
  },
  {
   "cell_type": "code",
   "execution_count": 108,
   "metadata": {},
   "outputs": [
    {
     "name": "stdout",
     "output_type": "stream",
     "text": [
      "For values of best estimators =  100 The train log loss is: 0.3166492167578133\n",
      "For values of best alpha =  100 The test log loss is: 0.352386219244619\n",
      "Total number of data points : 30000\n"
     ]
    },
    {
     "data": {
      "image/png": "[encoded data removed]",
      "text/plain": [
       "<Figure size 1440x288 with 6 Axes>"
      ]
     },
     "metadata": {},
     "output_type": "display_data"
    }
   ],
   "source": [
    "clf = xgb.XGBClassifier(max_depth=max_depth[best_depth],n_estimators=n_models[best_estimators])\n",
    "clf.fit(x_train_data, y_train_data)\n",
    "xg_clf = CalibratedClassifierCV(clf, method=\"sigmoid\")\n",
    "xg_clf.fit(x_train_data, y_train_data)\n",
    "\n",
    "predict_y = xg_clf.predict_proba(x_train_data)\n",
    "print('For values of best estimators = ',n_models[best_estimators], \"The train log loss is:\",log_loss(y_train_data, predict_y,))\n",
    "predict_y = xg_clf.predict_proba(x_test_data)\n",
    "print('For values of best alpha = ',n_models[best_estimators],\"The test log loss is:\",log_loss(y_test_data, predict_y,))\n",
    "predicted_y =np.argmax(predict_y,axis=1)\n",
    "print(\"Total number of data points :\", len(predicted_y))\n",
    "plot_confusion_matrix(y_test_data, predicted_y)"
   ]
  },
  {
   "cell_type": "code",
   "execution_count": 111,
   "metadata": {},
   "outputs": [
    {
     "name": "stdout",
     "output_type": "stream",
     "text": [
      "+----------+------------+--------+----------------+---------------+\n",
      "|  Model   | vectorizer | alpha  | Train_log_loss | test_log_loss |\n",
      "+----------+------------+--------+----------------+---------------+\n",
      "| Xg-BOOST |  TFIDFW2V  |  100   |      0.31      |      0.35     |\n",
      "| Logistic |   TFIDF    | 0.0001 |      0.65      |      0.65     |\n",
      "|   SVM    |   TFIDF    | 0.0001 |      0.65      |      0.65     |\n",
      "+----------+------------+--------+----------------+---------------+\n"
     ]
    }
   ],
   "source": [
    "from prettytable import PrettyTable\n",
    "    \n",
    "x = PrettyTable()\n",
    "\n",
    "x.field_names = [ \"Model\",\"vectorizer\", \"alpha\", \"Train_log_loss\",\"test_log_loss\"]\n",
    "\n",
    "x.add_row([\"Xg-BOOST\",\"TFIDFW2V\",100,0.31,0.35])\n",
    "x.add_row([\"Logistic\",\"TFIDF\",0.0001,0.65,0.65])\n",
    "x.add_row([\"SVM\",\"TFIDF\",0.0001, 0.65,0.65])\n",
    "print(x)"
   ]
  },
  {
   "cell_type": "markdown",
   "metadata": {},
   "source": [
    "<h3>Observation on XG-BOOST</h3>"
   ]
  },
  {
   "cell_type": "markdown",
   "metadata": {},
   "source": [
    "1. We used TFIDFW2V features in XG-BOOST <br>\n",
    "2. Compare to Logistic Regression and SVM Xg-Boost gives better results <br>\n",
    "3. It gives good Precision and Recall and Good confusion matrix results Compared to Logistic regression and SVM <br>\n",
    "4. over all performance Xg-boost gives good model results compared to Logistic regression and SVM (with SGD classifier)"
   ]
  }
 ],
 "metadata": {
  "colab": {
   "name": "4.ML_models.ipynb",
   "provenance": [],
   "version": "0.3.2"
  },
  "kernelspec": {
   "display_name": "Python 3",
   "language": "python",
   "name": "python3"
  },
  "language_info": {
   "codemirror_mode": {
    "name": "ipython",
    "version": 3
   },
   "file_extension": ".py",
   "mimetype": "text/x-python",
   "name": "python",
   "nbconvert_exporter": "python",
   "pygments_lexer": "ipython3",
   "version": "3.6.5"
  }
 },
 "nbformat": 4,
 "nbformat_minor": 1
}
